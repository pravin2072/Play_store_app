{
  "nbformat": 4,
  "nbformat_minor": 0,
  "metadata": {
    "colab": {
      "private_outputs": true,
      "provenance": [],
      "collapsed_sections": [
        "vncDsAP0Gaoa",
        "w6K7xa23Elo4",
        "yQaldy8SH6Dl",
        "O_i_v8NEhb9l",
        "oq4TQ4eVWm9s",
        "0wOQAZs5pc--",
        "f3SOrD6U0oLf",
        "vgt3_5RRUIz4",
        "2HKAmWMNY9Y1",
        "BhJNoR-IM_xw",
        "QkY7RwkKwW3F",
        "bamQiAODYuh1",
        "T0fvWVRGHeGX",
        "9swGNaDTXzrT",
        "PIIx-8_IphqN",
        "r2AB0UQL_3MU",
        "5Fj9isnOE0-d",
        "c4mvLCsCAV1y",
        "JcMwzZxoAimU",
        "gCX9965dhzqZ",
        "gIfDvo9L0UH2"
      ],
      "include_colab_link": true
    },
    "kernelspec": {
      "name": "python3",
      "display_name": "Python 3"
    },
    "language_info": {
      "name": "python"
    },
    "gpuClass": "standard"
  },
  "cells": [
    {
      "cell_type": "markdown",
      "metadata": {
        "id": "view-in-github",
        "colab_type": "text"
      },
      "source": [
        "<a href=\"https://colab.research.google.com/github/pravin2072/Play_store_app/blob/main/18_4_23Play_store_App_review_EDA_Submission_.ipynb\" target=\"_parent\"><img src=\"https://colab.research.google.com/assets/colab-badge.svg\" alt=\"Open In Colab\"/></a>"
      ]
    },
    {
      "cell_type": "markdown",
      "source": [
        "# **Project Name**    - Play Store App Data Analysis\n",
        "\n"
      ],
      "metadata": {
        "id": "vncDsAP0Gaoa"
      }
    },
    {
      "cell_type": "markdown",
      "source": [
        "##### **Project Type**    - EDA\n",
        "##### **Contribution**    - Team (D_a_t_a{Scientist})\n",
        "##### **Team Member 1 -**Pravin Wedpathak\n",
        "##### **Team Member 2 -**Shivprasad Sawant\n",
        "##### **Team Member 3 -**Anmol Paswal\n",
        "##### **Team Member 4 -**Shubham Gotphode\n",
        "\n"
      ],
      "metadata": {
        "id": "beRrZCGUAJYm"
      }
    },
    {
      "cell_type": "markdown",
      "source": [
        "# **Project Summary -**"
      ],
      "metadata": {
        "id": "FJNUwmbgGyua"
      }
    },
    {
      "cell_type": "markdown",
      "source": [
        "Play Store is a popular digital distribution platform for Android operating system, offering millions of applications to users worldwide. App data analysis of the Play Store involves examining the app's performance based on several factors such as user reviews, downloads, ratings, and more.\n",
        "\n",
        "One of the essential components of Play Store app data analysis is understanding user behavior patterns. This includes examining the popularity of specific app categories, the frequency of app downloads. Analyzing user feedback and reviews is also crucial in assessing an app's performance.\n",
        "\n",
        "The first step in the project will be to clean and preprocess the data. This will involve removing any missing or incorrect values, converting data types, and dealing with outliers. Once the data has been cleaned, we can move on to the exploratory data analysis phase.\n",
        "\n",
        "During the EDA, we will explore the relationships between different variables in the dataset, such as the relationship between app category and rating, or between price and number of downloads. We will also visualize the data using graphs and charts to help us better understand the trends and patterns in the data.\n",
        "\n",
        "Overall, this project will provide valuable insights into the trends and patterns of apps on the Google Play Store. These insights can be used by app developers to inform their decisions around app development and marketing."
      ],
      "metadata": {
        "id": "F6v_1wHtG2nS"
      }
    },
    {
      "cell_type": "markdown",
      "source": [
        "# **GitHub Link -**"
      ],
      "metadata": {
        "id": "w6K7xa23Elo4"
      }
    },
    {
      "cell_type": "markdown",
      "source": [
        "https://github.com/pravin2072/Play_store_app"
      ],
      "metadata": {
        "id": "h1o69JH3Eqqn"
      }
    },
    {
      "cell_type": "markdown",
      "source": [
        "# **Problem Statement**\n"
      ],
      "metadata": {
        "id": "yQaldy8SH6Dl"
      }
    },
    {
      "cell_type": "markdown",
      "source": [
        "**Business Problem Overview**\n",
        "\n",
        "PlayStore App is a source of downloading and updating applications for Android System, allmost all Android users use it. An Android Application developer or a Company wants to make an application and make it a hit app on playstore but the developer dosent know on what parameters should he/she should make that app on.\n",
        " \n",
        "In this project we will analyse on what parameters should an App developer or an App developer company develop apps so that they would be succesful to capture the Android Market."
      ],
      "metadata": {
        "id": "DpeJGUA3kjGy"
      }
    },
    {
      "cell_type": "markdown",
      "source": [
        "#### **Define Your Business Objective?**"
      ],
      "metadata": {
        "id": "PH-0ReGfmX4f"
      }
    },
    {
      "cell_type": "markdown",
      "source": [
        "Find insightful factors which would make apps successful on Playstore."
      ],
      "metadata": {
        "id": "PhDvGCAqmjP1"
      }
    },
    {
      "cell_type": "markdown",
      "source": [
        "# ***Let's Begin !***"
      ],
      "metadata": {
        "id": "O_i_v8NEhb9l"
      }
    },
    {
      "cell_type": "markdown",
      "source": [
        "## ***1. Knowing Data***"
      ],
      "metadata": {
        "id": "HhfV-JJviCcP"
      }
    },
    {
      "cell_type": "markdown",
      "source": [
        "### Importing Libraries"
      ],
      "metadata": {
        "id": "Y3lxredqlCYt"
      }
    },
    {
      "cell_type": "code",
      "source": [
        "# Import Libraries\n",
        "import numpy as np # importing numpy library\n",
        "import pandas as pd # importing pandas library\n",
        "import matplotlib.pyplot as plt # importing matplot library for visualisations\n",
        "%matplotlib inline\n",
        "import seaborn as sns #importing seaborn library for visualisations\n",
        "import plotly.express as px #importing plotly library for visualisations\n",
        "from datetime import datetime\n",
        "from matplotlib.ticker import FormatStrFormatter # for ticks formatting"
      ],
      "metadata": {
        "id": "M8Vqi-pPk-HR"
      },
      "execution_count": null,
      "outputs": []
    },
    {
      "cell_type": "markdown",
      "source": [
        "### Dataset Loading"
      ],
      "metadata": {
        "id": "3RnN4peoiCZX"
      }
    },
    {
      "cell_type": "code",
      "source": [
        "from google.colab import drive #mounted drive \n",
        "drive.mount('/content/drive')"
      ],
      "metadata": {
        "id": "4KmDNarezsc_"
      },
      "execution_count": null,
      "outputs": []
    },
    {
      "cell_type": "code",
      "source": [
        "df=pd.read_csv('/content/drive/MyDrive/Play Store Data (1).csv')\n",
        "review_df=pd.read_csv('/content/drive/MyDrive/User Reviews (1).csv')"
      ],
      "metadata": {
        "id": "IBz7hCvf0ONu"
      },
      "execution_count": null,
      "outputs": []
    },
    {
      "cell_type": "markdown",
      "source": [
        "### Dataset First View"
      ],
      "metadata": {
        "id": "x71ZqKXriCWQ"
      }
    },
    {
      "cell_type": "code",
      "source": [
        "df.head() #reading dataframe of playstore app data"
      ],
      "metadata": {
        "id": "LWNFOSvLl09H"
      },
      "execution_count": null,
      "outputs": []
    },
    {
      "cell_type": "code",
      "source": [
        "review_df.head() #reading user review dataframe"
      ],
      "metadata": {
        "id": "Ny-fYCKh6pS1"
      },
      "execution_count": null,
      "outputs": []
    },
    {
      "cell_type": "markdown",
      "source": [
        "### Dataset Rows & Columns count"
      ],
      "metadata": {
        "id": "7hBIi_osiCS2"
      }
    },
    {
      "cell_type": "code",
      "source": [
        "# df Rows & Columns count\n",
        "df.shape "
      ],
      "metadata": {
        "id": "Kllu7SJgmLij"
      },
      "execution_count": null,
      "outputs": []
    },
    {
      "cell_type": "code",
      "source": [
        "#reviews_df Rows & Columns count\n",
        "review_df.shape"
      ],
      "metadata": {
        "id": "JeUnrO8H7gws"
      },
      "execution_count": null,
      "outputs": []
    },
    {
      "cell_type": "markdown",
      "source": [
        "### Dataset Information"
      ],
      "metadata": {
        "id": "JlHwYmJAmNHm"
      }
    },
    {
      "cell_type": "code",
      "source": [
        "# Dataset Info\n",
        "df.info()"
      ],
      "metadata": {
        "id": "e9hRXRi6meOf"
      },
      "execution_count": null,
      "outputs": []
    },
    {
      "cell_type": "code",
      "source": [
        "review_df.info()"
      ],
      "metadata": {
        "id": "guR4Jcmz_mDZ"
      },
      "execution_count": null,
      "outputs": []
    },
    {
      "cell_type": "markdown",
      "source": [
        "#### Duplicate Values"
      ],
      "metadata": {
        "id": "35m5QtbWiB9F"
      }
    },
    {
      "cell_type": "code",
      "source": [
        "# Dataset Duplicate Value Count\n",
        "len(df[df.duplicated()])"
      ],
      "metadata": {
        "id": "1sLdpKYkmox0"
      },
      "execution_count": null,
      "outputs": []
    },
    {
      "cell_type": "code",
      "source": [
        "# Dataset Duplicate Value Count\n",
        "len(review_df[review_df.duplicated()])"
      ],
      "metadata": {
        "id": "gdZ7iYRpZwv8"
      },
      "execution_count": null,
      "outputs": []
    },
    {
      "cell_type": "markdown",
      "source": [
        "#### Missing Values/Null Values"
      ],
      "metadata": {
        "id": "PoPl-ycgm1ru"
      }
    },
    {
      "cell_type": "code",
      "source": [
        "# Missing Values/Null Values Count in df\n",
        "df.isnull().sum()"
      ],
      "metadata": {
        "id": "GgHWkxvamxVg"
      },
      "execution_count": null,
      "outputs": []
    },
    {
      "cell_type": "code",
      "source": [
        "# Missing Values/Null Values Count in review df\n",
        "review_df.isnull().sum()"
      ],
      "metadata": {
        "id": "usOGlC6MaAjE"
      },
      "execution_count": null,
      "outputs": []
    },
    {
      "cell_type": "code",
      "source": [
        "# Visualizing the missing values of df\n",
        "null_visualisation=df.isnull().sum()\n",
        "null_visualisation.plot(kind='bar')"
      ],
      "metadata": {
        "id": "3q5wnI3om9sJ"
      },
      "execution_count": null,
      "outputs": []
    },
    {
      "cell_type": "code",
      "source": [
        "# Visualizing the missing values of review_df\n",
        "na_visualisation=review_df.isnull().sum()\n",
        "na_visualisation.plot(kind='bar')"
      ],
      "metadata": {
        "id": "dscyKwsoagqX"
      },
      "execution_count": null,
      "outputs": []
    },
    {
      "cell_type": "markdown",
      "source": [
        "### What did you know about your dataset?"
      ],
      "metadata": {
        "id": "H0kj-8xxnORC"
      }
    },
    {
      "cell_type": "markdown",
      "source": [
        "The dataset that has been provided is of various apps existing on PlayStore and we have to obtain insights from this data ,which will answer our question of how to make our apps a hit success on Playstore?.\n",
        "\n",
        "There are two datasets one containing app details and another contains reviews from people.As of now lets consider the former dataset.It contains 10841 rows and 13 columns.Out of which there are 483 duplicate rows,columns like rating, type,content rating,current version, android version have null values.Apart from Rating column all other columns have data type object.\n",
        "\n",
        "The second dataset containing reviews has 64295 rows and 5 columns,it has 33616 rows which are duplicate and 26868 rows which have null values."
      ],
      "metadata": {
        "id": "gfoNAAC-nUe_"
      }
    },
    {
      "cell_type": "markdown",
      "source": [
        "## ***2. Understanding Your Variables***"
      ],
      "metadata": {
        "id": "nA9Y7ga8ng1Z"
      }
    },
    {
      "cell_type": "code",
      "source": [
        "# Dataset Columns of df\n",
        "df.columns"
      ],
      "metadata": {
        "id": "j7xfkqrt5Ag5"
      },
      "execution_count": null,
      "outputs": []
    },
    {
      "cell_type": "code",
      "source": [
        "# Dataset Columns of review_df\n",
        "review_df.columns"
      ],
      "metadata": {
        "id": "RfF0xwG0cBDL"
      },
      "execution_count": null,
      "outputs": []
    },
    {
      "cell_type": "code",
      "source": [
        "# Dataset Describe of df\n",
        "df.describe() # only rating column is in numerical format so describe shows only results of rating column"
      ],
      "metadata": {
        "id": "DnOaZdaE5Q5t"
      },
      "execution_count": null,
      "outputs": []
    },
    {
      "cell_type": "code",
      "source": [
        "# Dataset Describe of review_df\n",
        "review_df.describe()"
      ],
      "metadata": {
        "id": "LvZvPIuhcLpA"
      },
      "execution_count": null,
      "outputs": []
    },
    {
      "cell_type": "markdown",
      "source": [
        "### Variables Description "
      ],
      "metadata": {
        "id": "PBTbrJXOngz2"
      }
    },
    {
      "cell_type": "markdown",
      "source": [
        "* **App:** Name of application\n",
        "* **Category:**Category to which application belongs wiz games,weather etc\n",
        "* **Rating:** User provided average rating out of five\n",
        "* **Reviews:** Number of reviews given by app users\n",
        "* **Size:** Memory size of the app in megabytes and kilobytes\n",
        "* **Installs:**Number of times the app has been downloaded and installed .\n",
        "* **Type:**Type of app free or paid\n",
        "* **Price:** Price of the paid app in dollars\n",
        "* **Content Rating:**describes the maturity level of content in apps\n",
        "* **Genres:**Name of genre to which the app belong\n",
        "* **Last Updated:**Date of the latest updated version of app\n",
        "* **Current Ver:**Version number of the app according to the developer\n",
        "* **Android Ver:**version of android on which the app will work\n",
        "\n",
        "\n",
        "* **App:**Name of App in review dataset\n",
        "* **Translated_Review:**exact review of the user translated in english \n",
        "* **Sentiment:**classfying the sentiment positive or negative\n",
        "* **Sentiment_Polarity:**Sentiment grading from 0 to 1, 0=totally negative review and 1=totally positive review.\n",
        "* **Sentiment_Subjectivity:**Sentiment grading of review according to its relativity from the app content"
      ],
      "metadata": {
        "id": "aJV4KIxSnxay"
      }
    },
    {
      "cell_type": "markdown",
      "source": [
        "### Check Unique Values for each variable."
      ],
      "metadata": {
        "id": "u3PMJOP6ngxN"
      }
    },
    {
      "cell_type": "code",
      "source": [
        "# Check Unique Values for each variable.\n",
        "df['App'].unique()"
      ],
      "metadata": {
        "id": "zms12Yq5n-jE"
      },
      "execution_count": null,
      "outputs": []
    },
    {
      "cell_type": "code",
      "source": [
        "df['Category'].unique()"
      ],
      "metadata": {
        "id": "YSf1jmeEuv0q"
      },
      "execution_count": null,
      "outputs": []
    },
    {
      "cell_type": "code",
      "source": [
        "df['Rating'].unique()"
      ],
      "metadata": {
        "id": "vKfqUGWZu18i"
      },
      "execution_count": null,
      "outputs": []
    },
    {
      "cell_type": "code",
      "source": [
        "df['Reviews'].unique()"
      ],
      "metadata": {
        "id": "EArvWCbKvB3D"
      },
      "execution_count": null,
      "outputs": []
    },
    {
      "cell_type": "code",
      "source": [
        "df['Size'].unique()"
      ],
      "metadata": {
        "id": "Q8Jy4F4vvGna"
      },
      "execution_count": null,
      "outputs": []
    },
    {
      "cell_type": "code",
      "source": [
        "df['Installs'].unique()"
      ],
      "metadata": {
        "id": "iQxwP-TtvPZm"
      },
      "execution_count": null,
      "outputs": []
    },
    {
      "cell_type": "code",
      "source": [
        "df['Type'].unique()"
      ],
      "metadata": {
        "id": "dz62PUu_vU4u"
      },
      "execution_count": null,
      "outputs": []
    },
    {
      "cell_type": "code",
      "source": [
        "df['Price'].unique()"
      ],
      "metadata": {
        "id": "CHdlBFdGvbep"
      },
      "execution_count": null,
      "outputs": []
    },
    {
      "cell_type": "code",
      "source": [
        "df['Content Rating'].unique()"
      ],
      "metadata": {
        "id": "wF0XlwmWvg3w"
      },
      "execution_count": null,
      "outputs": []
    },
    {
      "cell_type": "code",
      "source": [
        "df['Genres'].unique()"
      ],
      "metadata": {
        "id": "9x9qNQMZvqJa"
      },
      "execution_count": null,
      "outputs": []
    },
    {
      "cell_type": "code",
      "source": [
        "df['Last Updated'].unique()"
      ],
      "metadata": {
        "id": "p108KWSG0EJD"
      },
      "execution_count": null,
      "outputs": []
    },
    {
      "cell_type": "code",
      "source": [
        "df['Current Ver'].unique()"
      ],
      "metadata": {
        "id": "s2aNxYBl0JaK"
      },
      "execution_count": null,
      "outputs": []
    },
    {
      "cell_type": "code",
      "source": [
        "df['Android Ver'].unique()"
      ],
      "metadata": {
        "id": "R35AFu430V_f"
      },
      "execution_count": null,
      "outputs": []
    },
    {
      "cell_type": "code",
      "source": [
        "review_df['App'].unique()"
      ],
      "metadata": {
        "id": "4Sb4xEaa1uyu"
      },
      "execution_count": null,
      "outputs": []
    },
    {
      "cell_type": "code",
      "source": [
        "review_df['Translated_Review'].unique()"
      ],
      "metadata": {
        "id": "MeJZGGuM18FO"
      },
      "execution_count": null,
      "outputs": []
    },
    {
      "cell_type": "code",
      "source": [
        "review_df['Sentiment'].unique()"
      ],
      "metadata": {
        "id": "7dHAU2Io2Bdu"
      },
      "execution_count": null,
      "outputs": []
    },
    {
      "cell_type": "code",
      "source": [
        "review_df['Sentiment_Polarity'].unique()"
      ],
      "metadata": {
        "id": "aXMJNMIL2Wn1"
      },
      "execution_count": null,
      "outputs": []
    },
    {
      "cell_type": "code",
      "source": [
        "review_df['Sentiment_Subjectivity'].unique()"
      ],
      "metadata": {
        "id": "Ytgmda5P2woV"
      },
      "execution_count": null,
      "outputs": []
    },
    {
      "cell_type": "markdown",
      "source": [
        "## ***3.Data Wrangling***"
      ],
      "metadata": {
        "id": "dauF4eBmngu3"
      }
    },
    {
      "cell_type": "markdown",
      "source": [
        "### Data Wrangling Code"
      ],
      "metadata": {
        "id": "bKJF3rekwFvQ"
      }
    },
    {
      "cell_type": "markdown",
      "source": [
        "####making copy of dataframe"
      ],
      "metadata": {
        "id": "93pMc0pOgL6R"
      }
    },
    {
      "cell_type": "code",
      "source": [
        "# Write your code to make your dataset analysis ready.\n",
        "df1=df.copy() #making a copy of dataframe so that initial dataframe remains intact"
      ],
      "metadata": {
        "id": "wk-9a2fpoLcV"
      },
      "execution_count": null,
      "outputs": []
    },
    {
      "cell_type": "markdown",
      "source": [
        "####dropping duplicates"
      ],
      "metadata": {
        "id": "YMVXbCepTSpK"
      }
    },
    {
      "cell_type": "code",
      "source": [
        "df1.drop_duplicates(subset='App',keep='first',inplace=True,ignore_index=True)"
      ],
      "metadata": {
        "id": "FoMWMm_Jc_1c"
      },
      "execution_count": null,
      "outputs": []
    },
    {
      "cell_type": "markdown",
      "source": [
        "####changing data type from object to numeric data type"
      ],
      "metadata": {
        "id": "iO7tQacHuyQU"
      }
    },
    {
      "cell_type": "code",
      "source": [
        "df1.iloc[9300,:] #here we can see that the row has correct data but has been fed in wrong columns"
      ],
      "metadata": {
        "id": "BkdNxRVhN6MZ"
      },
      "execution_count": null,
      "outputs": []
    },
    {
      "cell_type": "code",
      "source": [
        "#row 9300 has data in which App name is correct and other data needs to be shifted to right\n",
        "for i in range(12,1,-1):\n",
        "  df1.iloc[9300,i]=df1.iloc[9300,i-1]\n",
        "#value of category in 9300 is 19.0 which cannot be true, from internet info it show that app belongs to category lifestyle \n",
        "df1.iloc[9300,1]='LIFESTYLE'"
      ],
      "metadata": {
        "id": "CP_wZFoaxXpa"
      },
      "execution_count": null,
      "outputs": []
    },
    {
      "cell_type": "code",
      "source": [
        "df1['Rating']=pd.to_numeric(df1['Rating'])    # rating column has been converted into numeric data"
      ],
      "metadata": {
        "id": "12IslSEgteXe"
      },
      "execution_count": null,
      "outputs": []
    },
    {
      "cell_type": "code",
      "source": [
        "df1['Reviews']=pd.to_numeric(df1['Reviews'])    # reviews column has been converted into numeric data"
      ],
      "metadata": {
        "id": "qk-qRbBHitRb"
      },
      "execution_count": null,
      "outputs": []
    },
    {
      "cell_type": "code",
      "source": [
        "#to convert size column into numeric we have to remove M(Megabyte) and K(Kilobyte) notation from each row\n",
        "#1 Megabyte=1024Kb or 1024K ,so lets consider Megabyte as a unit for the column 'Size'\n",
        "#As 'Size' column has no null values, values are in form of 'M','K' and 'varies with device'.\n",
        "import re\n",
        "for index,rows in df1.iterrows():   #itetrating through dataframe so as to just get index numbers for all rows\n",
        "  if df1.loc[index,'Size'][-1]=='M':  #this loop is for megabyte\n",
        "    a=re.sub('\\D', '',df1.loc[index,'Size'])  #extracting out 'M' from the data so that we just get the numbers in form of string\n",
        "    b=int(a)    #converting numbers from string into integer \n",
        "    df1.loc[index,'Size']=b #storing this value back into the column\n",
        "  elif df1.loc[index,'Size'][-1]=='K':    #this loop is for kilobyte\n",
        "    c=re.sub('\\D', '',df1.loc[index,'Size'])    #extracting out 'K' from the data so that we just get the numbers in form of string\n",
        "    d=int(c)/1024    #converting numbers from string into integer and then dividing by 1024 to convert into Megabyte\n",
        "    df1.loc[index,'Size']=d    #storing this value back into the column\n",
        "  else:    #this loop is for 'varing with device'\n",
        "    df1.loc[index,'Size']=np.nan   #storing nan values in place of 'varies with device' so that they can be replaced by median later"
      ],
      "metadata": {
        "id": "wFr42c3FWqRQ"
      },
      "execution_count": null,
      "outputs": []
    },
    {
      "cell_type": "code",
      "source": [
        "#Defining a function to convert object data type into numerical data type\n",
        "def converting_object_to_numerical(row):\n",
        "  a=re.sub('\\D','',row)\n",
        "  b=int(a)\n",
        "  return b"
      ],
      "metadata": {
        "id": "Eyj5MOmT0Mqa"
      },
      "execution_count": null,
      "outputs": []
    },
    {
      "cell_type": "code",
      "source": [
        "df1.loc[:,'Installs']=df1.loc[:,'Installs'].apply(converting_object_to_numerical)   #converted Installs into numerical data type"
      ],
      "metadata": {
        "id": "uiHbErblZ1Ia"
      },
      "execution_count": null,
      "outputs": []
    },
    {
      "cell_type": "code",
      "source": [
        "df1.loc[:,'Price']=df1.loc[:,'Price'].apply(converting_object_to_numerical)  #converted Price into numerical data type"
      ],
      "metadata": {
        "id": "I9AHBPpcloqv"
      },
      "execution_count": null,
      "outputs": []
    },
    {
      "cell_type": "code",
      "source": [
        "df1['Last Updated']=pd.to_datetime(df1['Last Updated'])    #converted last updated into datetime object"
      ],
      "metadata": {
        "id": "aD-5nQAgsWF6"
      },
      "execution_count": null,
      "outputs": []
    },
    {
      "cell_type": "markdown",
      "source": [
        "#### replacing nan values"
      ],
      "metadata": {
        "id": "IcwRpF2s4QbK"
      }
    },
    {
      "cell_type": "code",
      "source": [
        "df1=df1.fillna({'Rating':df1['Rating'].median(),'Size':df1['Size'].median()})    # replacing nan values of rating and size column by the median of respective column"
      ],
      "metadata": {
        "id": "TwkGyVIu4YTK"
      },
      "execution_count": null,
      "outputs": []
    },
    {
      "cell_type": "markdown",
      "source": [],
      "metadata": {
        "id": "1Il62RTws5uh"
      }
    },
    {
      "cell_type": "code",
      "source": [
        "df1.iloc[8028,:]# here we can see that type has Nan value but Price says type is 'Free'"
      ],
      "metadata": {
        "id": "a3U46SeYPEBd"
      },
      "execution_count": null,
      "outputs": []
    },
    {
      "cell_type": "code",
      "source": [
        "#'type' column has one nan value at row index=8028 ,the price is zero which means Type='Free'\n",
        "df1.loc[8028,'Type']='Free'"
      ],
      "metadata": {
        "id": "m5AZtOkTb8bx"
      },
      "execution_count": null,
      "outputs": []
    },
    {
      "cell_type": "code",
      "source": [
        "# 'current version' and 'android version' column has numerical data and nan values but we arent going to use them in any data visualisations\n",
        "# type of app paid or unpaid is understood from 'price' so no need to use column 'Type'.\n",
        "# Genres column has one nan value at row index=9300."
      ],
      "metadata": {
        "id": "eJaubVcCbDBe"
      },
      "execution_count": null,
      "outputs": []
    },
    {
      "cell_type": "markdown",
      "source": [
        "#### Data manipulation"
      ],
      "metadata": {
        "id": "fH8CwSkVvWrg"
      }
    },
    {
      "cell_type": "code",
      "source": [
        "df1.info()"
      ],
      "metadata": {
        "id": "VkguEAflHxEX"
      },
      "execution_count": null,
      "outputs": []
    },
    {
      "cell_type": "code",
      "source": [
        "#1)Whats the Category of Apps having more than one billion installs?\n",
        "#there are 20 apps which have more than 1 billion installs\n",
        "df2=df1.copy().loc[df1.copy()['Installs']==1000000000,'Category']   #creating a copy so as to avoid copy warning  "
      ],
      "metadata": {
        "id": "fsTedOap2dG6"
      },
      "execution_count": null,
      "outputs": []
    },
    {
      "cell_type": "code",
      "source": [
        "#2)Whats the Category of Apps having Installs between 50 Million to 1 Billion?\n",
        "df3=df1.copy().loc[df1.copy()['Installs']==500000000,'Category']"
      ],
      "metadata": {
        "id": "1SEEjKIeLKZc"
      },
      "execution_count": null,
      "outputs": []
    },
    {
      "cell_type": "code",
      "source": [
        "#3)Whats the Genre of Apps having more than 1 billion installs?\n",
        "df4=df1.copy().loc[df1['Installs']==1000000000,'Genres']"
      ],
      "metadata": {
        "id": "BSqJ4aEx5tKA"
      },
      "execution_count": null,
      "outputs": []
    },
    {
      "cell_type": "code",
      "source": [
        "#4)which are 10 most reviewed apps?\n",
        "df5=df1.copy().loc[:,['App','Reviews']]"
      ],
      "metadata": {
        "id": "IHytpSrK-_Fl"
      },
      "execution_count": null,
      "outputs": []
    },
    {
      "cell_type": "code",
      "source": [
        "#5)Analyzing the Numerical Data columns and deriving correlation between them via heatmap\n",
        "# df1 is used directly"
      ],
      "metadata": {
        "id": "c7AEy7tkuI3p"
      },
      "execution_count": null,
      "outputs": []
    },
    {
      "cell_type": "code",
      "source": [
        "#6)Correlation between Ratings and Reviews ?\n",
        "df6=df1.copy().loc[:,['Rating','Reviews']]"
      ],
      "metadata": {
        "id": "TiX6qkVWL-F4"
      },
      "execution_count": null,
      "outputs": []
    },
    {
      "cell_type": "code",
      "source": [
        "#zoomed plot between 1 star to 3.5 star ratings and 20k reviews\n",
        "df7=df1.copy().loc[df1.copy()['Rating']<3.5,['Rating','Reviews']]"
      ],
      "metadata": {
        "id": "mDX9Q65Fi7lp"
      },
      "execution_count": null,
      "outputs": []
    },
    {
      "cell_type": "code",
      "source": [
        "#7)what should be name of the App?\n",
        "df8=df1.copy().loc[:,['App','Installs']]\n",
        "df8['Character_length']=df8['App'].apply(lambda x:len(x))"
      ],
      "metadata": {
        "id": "DXwRSJ6UFoVG"
      },
      "execution_count": null,
      "outputs": []
    },
    {
      "cell_type": "code",
      "source": [
        "#8)distrubution of categories in terms of installs\n",
        "#there are total 33 categories.\n",
        "df9=df1.copy().loc[:,['Category','Installs']]"
      ],
      "metadata": {
        "id": "Zh287BsVCsld"
      },
      "execution_count": null,
      "outputs": []
    },
    {
      "cell_type": "code",
      "source": [
        "#9)what should be the size of app based on popularity?\n",
        "df10=df1.copy().loc[:,['Size','Installs']]"
      ],
      "metadata": {
        "id": "vBhFyUtYSJiK"
      },
      "execution_count": null,
      "outputs": []
    },
    {
      "cell_type": "code",
      "source": [
        "#10)Should the App be free or paid?\n",
        "df11=df1.copy().loc[:,['Type','Installs']]"
      ],
      "metadata": {
        "id": "mhwOehGwpMB5"
      },
      "execution_count": null,
      "outputs": []
    },
    {
      "cell_type": "code",
      "source": [
        "#11)What should be content rating of the App\n",
        "df12=df1.copy().loc[:,['Content Rating','Installs']]"
      ],
      "metadata": {
        "id": "GiNOb1aJCD5F"
      },
      "execution_count": null,
      "outputs": []
    },
    {
      "cell_type": "markdown",
      "source": [
        "### What all manipulations have you done and insights you found?"
      ],
      "metadata": {
        "id": "MSa1f5Uengrz"
      }
    },
    {
      "cell_type": "markdown",
      "source": [
        "* Droped duplicates and kept the data which apperead first.\n",
        "* Changed Data Type from Object data type to numeric data type of numeric columns.\n",
        "* Specifically changed and entered data at row number 9300 and row number 8028.\n",
        "* Converted Size column having mix units Kb and Mb into just Mb(Megabyte).\n",
        "* Created a dataframe for each question."
      ],
      "metadata": {
        "id": "LbyXE7I1olp8"
      }
    },
    {
      "cell_type": "markdown",
      "source": [
        "## ***4. Data Vizualization, Storytelling & Experimenting with charts : Understand the relationships between variables***"
      ],
      "metadata": {
        "id": "GF8Ens_Soomf"
      }
    },
    {
      "cell_type": "markdown",
      "source": [
        "We have to devlop insights which will help a developer to make apps.According to the Data available we have to answer 6 questions.\n",
        "* 1)What should be the name of the app?\n",
        "* 2)What should be the Category of the app?\n",
        "* 3)What should be the size of the app?\n",
        "* 4)Should the app be free or paid?\n",
        "* 5)What should be the content rating?"
      ],
      "metadata": {
        "id": "db3z_IrD0ws-"
      }
    },
    {
      "cell_type": "markdown",
      "source": [
        "### What is the Category of Apps having more than 1 billion Installs?"
      ],
      "metadata": {
        "id": "oq4TQ4eVWm9s"
      }
    },
    {
      "cell_type": "markdown",
      "source": [
        "#### Chart - 1"
      ],
      "metadata": {
        "id": "0wOQAZs5pc--"
      }
    },
    {
      "cell_type": "code",
      "source": [
        "#Chart - 1 visualization code\n",
        "fig,ax = plt.subplots()\n",
        "df2.value_counts().plot(ax=ax,kind='bar',x='Category',y='Installs')\n",
        "ax.set_ylabel('Number of Apps')\n",
        "ax.set_xlabel('Categories')\n",
        "ax.set_title('Number of Apps in Categories having more than One billion Installs')"
      ],
      "metadata": {
        "id": "7v_ESjsspbW7"
      },
      "execution_count": null,
      "outputs": []
    },
    {
      "cell_type": "markdown",
      "source": [
        "##### 1. Why did you pick the specific chart?"
      ],
      "metadata": {
        "id": "K5QZ13OEpz2H"
      }
    },
    {
      "cell_type": "markdown",
      "source": [
        "* The data to be compared was categorical and discrete.\n",
        "* Also the subgroups or categories were countable.\n",
        "\n",
        "So using a bar chart was the best choice.\n"
      ],
      "metadata": {
        "id": "XESiWehPqBRc"
      }
    },
    {
      "cell_type": "markdown",
      "source": [
        "##### 2. What is/are the insight(s) found from the chart?"
      ],
      "metadata": {
        "id": "lQ7QKXXCp7Bj"
      }
    },
    {
      "cell_type": "markdown",
      "source": [
        "* Out of 33 Categories only **11** Categories have atleast One App having 1 billion+ Installs.\n",
        "* **Communication** Category has the most number(6) of Apps having 1 Billion + Installs.\n",
        "* **Social** Category has 3 Apps and **travel and local**,**video_players** category have 2 Apps each above 1 Billion + Installs.\n"
      ],
      "metadata": {
        "id": "C_j1G7yiqdRP"
      }
    },
    {
      "cell_type": "markdown",
      "source": [
        "##### 3. Will the gained insights help creating a positive business impact? \n",
        "Are there any insights that lead to negative growth? Justify with specific reason."
      ],
      "metadata": {
        "id": "448CDAPjqfQr"
      }
    },
    {
      "cell_type": "markdown",
      "source": [
        "If the App to be developed is from Category like **communication or social** there are chances that it might get 1 billion + Installs."
      ],
      "metadata": {
        "id": "3cspy4FjqxJW"
      }
    },
    {
      "cell_type": "markdown",
      "source": [
        "### What is the Category of Apps having Installs between 50million to 1 billion?"
      ],
      "metadata": {
        "id": "f3SOrD6U0oLf"
      }
    },
    {
      "cell_type": "markdown",
      "source": [
        "#### Chart - 2"
      ],
      "metadata": {
        "id": "KSlN3yHqYklG"
      }
    },
    {
      "cell_type": "code",
      "source": [
        "#Chart - 2 visualization code\n",
        "fig,ax = plt.subplots()\n",
        "df3.value_counts().plot(ax=ax,kind='bar',x='Category',y='Installs')\n",
        "ax.set_ylabel('Number of Apps')\n",
        "ax.set_xlabel('Categories')\n",
        "ax.set_title('Number of Apps in Categories having Installs between 50 million to 1 billion')"
      ],
      "metadata": {
        "id": "R4YgtaqtYklH"
      },
      "execution_count": null,
      "outputs": []
    },
    {
      "cell_type": "markdown",
      "source": [
        "##### 1. Why did you pick the specific chart?"
      ],
      "metadata": {
        "id": "t6dVpIINYklI"
      }
    },
    {
      "cell_type": "markdown",
      "source": [
        "* The data to be compared was categorical and discrete.\n",
        "* Also the subgroups or categories were countable.\n",
        "\n",
        "So using a bar chart was the best choice."
      ],
      "metadata": {
        "id": "5aaW0BYyYklI"
      }
    },
    {
      "cell_type": "markdown",
      "source": [
        "##### 2. What is/are the insight(s) found from the chart?"
      ],
      "metadata": {
        "id": "ijmpgYnKYklI"
      }
    },
    {
      "cell_type": "markdown",
      "source": [
        "* Out of 33 Categories only **8** Categories have atleast One App having 50 million+ to 1 billion installs.\n",
        "* **Communication** and **Tools** category have **5** apps each, similarly **Games** and **Productivity** category have **4** apps each having 50 million to 1 billion installs.\n",
        "* 7 Categories **Communication, Social, Video Players, Game, Tools, Productivity, News and Magazines** are common in both datasets wiz 1 billion+ and 50 million to 1 billion Installs."
      ],
      "metadata": {
        "id": "PSx9atu2YklI"
      }
    },
    {
      "cell_type": "markdown",
      "source": [
        "##### 3. Will the gained insights help creating a positive business impact? \n",
        "Are there any insights that lead to negative growth? Justify with specific reason."
      ],
      "metadata": {
        "id": "-JiQyfWJYklI"
      }
    },
    {
      "cell_type": "markdown",
      "source": [
        "* To get more than 50 million Installs the App to be developed should be from **Communication, Social, Video Players, Game, Tools, Productivity, News and Magazines** Category.\n",
        "* If the App developed is from **Communication** category there are maximum chances that it will get 50 million+ Installs."
      ],
      "metadata": {
        "id": "BcBbebzrYklV"
      }
    },
    {
      "cell_type": "markdown",
      "source": [
        "### What is the Genre of Apps having more than 1 billion Installs?"
      ],
      "metadata": {
        "id": "vgt3_5RRUIz4"
      }
    },
    {
      "cell_type": "markdown",
      "source": [
        "#### Chart - 3"
      ],
      "metadata": {
        "id": "EM7whBJCYoAo"
      }
    },
    {
      "cell_type": "code",
      "source": [
        "#Chart - 3 visualization code\n",
        "fig,ax = plt.subplots()\n",
        "df4.value_counts().plot(kind='bar',x='Category',y='Genres') \n",
        "ax.set_ylabel('Number of Apps')\n",
        "ax.set_xlabel('Genres')\n",
        "ax.set_title('Number of Apps in Genres having more than 1 billion Installs')"
      ],
      "metadata": {
        "id": "t6GMdE67YoAp"
      },
      "execution_count": null,
      "outputs": []
    },
    {
      "cell_type": "markdown",
      "source": [
        "##### 1. Why did you pick the specific chart?"
      ],
      "metadata": {
        "id": "fge-S5ZAYoAp"
      }
    },
    {
      "cell_type": "markdown",
      "source": [
        "* The data to be compared was categorical and discrete.\n",
        "* Also the subgroups or categories were countable.\n",
        "\n",
        "So using a bar chart was the best choice."
      ],
      "metadata": {
        "id": "5dBItgRVYoAp"
      }
    },
    {
      "cell_type": "markdown",
      "source": [
        "##### 2. What is/are the insight(s) found from the chart?"
      ],
      "metadata": {
        "id": "85gYPyotYoAp"
      }
    },
    {
      "cell_type": "markdown",
      "source": [
        "* Out of 118 Genres only **11** Genres have atleast One App having 1 billion+ Installs.\n",
        "* **Communication** Genre has the most number(6) of Apps having 1 Billion + Installs.\n",
        "* **Social** Genre has 3 Apps and **travel and local**, **video_players and Editors** Genre have 2 Apps each above 1 Billion + Installs."
      ],
      "metadata": {
        "id": "4jstXR6OYoAp"
      }
    },
    {
      "cell_type": "markdown",
      "source": [
        "##### 3. Will the gained insights help creating a positive business impact? \n",
        "Are there any insights that lead to negative growth? Justify with specific reason."
      ],
      "metadata": {
        "id": "RoGjAbkUYoAp"
      }
    },
    {
      "cell_type": "markdown",
      "source": [
        "If the App to be developed is from Genres like **communication** or **social** there are chances that it might get 1 billion + Installs."
      ],
      "metadata": {
        "id": "zfJ8IqMcYoAp"
      }
    },
    {
      "cell_type": "markdown",
      "source": [
        "### Which are 10 most reviewed apps?"
      ],
      "metadata": {
        "id": "2HKAmWMNY9Y1"
      }
    },
    {
      "cell_type": "markdown",
      "source": [
        "#### Chart - 4"
      ],
      "metadata": {
        "id": "4Of9eVA-YrdM"
      }
    },
    {
      "cell_type": "code",
      "source": [
        "# Chart - 4 visualization code\n",
        "fig,ax = plt.subplots()\n",
        "df5=df1.copy().loc[:,['App','Reviews']]\n",
        "df5.nlargest(10,'Reviews').plot(ax=ax,kind='bar',x='App',y='Reviews')\n",
        "ax.set_ylabel('Number of Reviews')\n",
        "ax.set_xlabel('Name of Apps')\n",
        "ax.set_title('10 most reviewed Apps')\n",
        "#ax.yaxis.set_major_formatter(FormatStrFormatter('%.2f'))"
      ],
      "metadata": {
        "id": "irlUoxc8YrdO"
      },
      "execution_count": null,
      "outputs": []
    },
    {
      "cell_type": "markdown",
      "source": [
        "##### 1. Why did you pick the specific chart?"
      ],
      "metadata": {
        "id": "iky9q4vBYrdO"
      }
    },
    {
      "cell_type": "markdown",
      "source": [
        "* The data to be compared was discrete.\n",
        "* Also the number of Apps were countable and few.\n",
        "\n",
        "So using a bar chart was the best choice."
      ],
      "metadata": {
        "id": "aJRCwT6DYrdO"
      }
    },
    {
      "cell_type": "markdown",
      "source": [
        "##### 2. What is/are the insight(s) found from the chart?"
      ],
      "metadata": {
        "id": "F6T5p64dYrdO"
      }
    },
    {
      "cell_type": "markdown",
      "source": [
        "* Apps like **Facebook**,**Whats App**,**Instagram** are the Top 3 most reviewed .\n",
        "* There are 4 **Communication** ,3 **Games** , 2 **Tools** and 1 **Social** App"
      ],
      "metadata": {
        "id": "Xx8WAJvtYrdO"
      }
    },
    {
      "cell_type": "markdown",
      "source": [
        "##### 3. Will the gained insights help creating a positive business impact? \n",
        "Are there any insights that lead to negative growth? Justify with specific reason."
      ],
      "metadata": {
        "id": "y-Ehk30pYrdP"
      }
    },
    {
      "cell_type": "markdown",
      "source": [
        "These Apps have been most reviewed by its users,so if an App developer is developing app which has features similar to above apps, constant development of new updates will be necessary."
      ],
      "metadata": {
        "id": "jLNxxz7MYrdP"
      }
    },
    {
      "cell_type": "markdown",
      "source": [
        "###Analyzing the Numerical Data columns and deriving correlation between them via heatmap"
      ],
      "metadata": {
        "id": "BhJNoR-IM_xw"
      }
    },
    {
      "cell_type": "markdown",
      "source": [
        "#### Chart - 5"
      ],
      "metadata": {
        "id": "x-EpHcCOp1ci"
      }
    },
    {
      "cell_type": "code",
      "source": [
        "# Chart - 11 visualization code\n",
        "sns.heatmap(df1.corr(), annot = True, linewidths=1.0, fmt=\".3f\")\n",
        "plt.title(\"Heatmap for numerical columns\", size=15)"
      ],
      "metadata": {
        "id": "mAQTIvtqp1cj"
      },
      "execution_count": null,
      "outputs": []
    },
    {
      "cell_type": "markdown",
      "source": [
        "##### 1. Why did you pick the specific chart?"
      ],
      "metadata": {
        "id": "X_VqEhTip1ck"
      }
    },
    {
      "cell_type": "markdown",
      "source": [
        "* Correlation was required to be found between columns"
      ],
      "metadata": {
        "id": "-vsMzt_np1ck"
      }
    },
    {
      "cell_type": "markdown",
      "source": [
        "##### 2. What is/are the insight(s) found from the chart?"
      ],
      "metadata": {
        "id": "8zGJKyg5p1ck"
      }
    },
    {
      "cell_type": "markdown",
      "source": [
        "* Installs and Reviews columns have a good correlation of 0.625.\n",
        "* Other columns do not have any significant relation between each other"
      ],
      "metadata": {
        "id": "ZYdMsrqVp1ck"
      }
    },
    {
      "cell_type": "markdown",
      "source": [
        "##### 3. Will the gained insights help creating a positive business impact? \n",
        "Are there any insights that lead to negative growth? Justify with specific reason."
      ],
      "metadata": {
        "id": "PVzmfK_Ep1ck"
      }
    },
    {
      "cell_type": "markdown",
      "source": [
        "* As the number of Installs go on increasing ,the number of reviews also go on increasing, more feedback to reviews and frequent app updates are necessary."
      ],
      "metadata": {
        "id": "druuKYZpp1ck"
      }
    },
    {
      "cell_type": "markdown",
      "source": [
        "### Is there any correlation between Ratings and Reviews."
      ],
      "metadata": {
        "id": "QkY7RwkKwW3F"
      }
    },
    {
      "cell_type": "markdown",
      "source": [
        "#### Chart - 6"
      ],
      "metadata": {
        "id": "bamQiAODYuh1"
      }
    },
    {
      "cell_type": "code",
      "source": [
        "# Chart - 5 visualization code\n",
        "fig,(ax1,ax2) = plt.subplots(1,2)\n",
        "df6.plot(ax=ax1,kind='scatter',y='Reviews',x='Rating',figsize=(15,8),alpha=0.2)\n",
        "ax1.set_ylabel('Number of Reviews')\n",
        "ax1.set_xlabel('Ratings')\n",
        "ax1.set_title('Relation between Ratings and Reviews')\n",
        "ax1.xaxis.set_ticks(np.arange(1,5.25,0.25))\n",
        "df7.loc[df7['Reviews']<20000,['Rating','Reviews']].plot(ax=ax2,kind='scatter',y='Reviews',x='Rating',alpha=0.2)\n",
        "ax2.set_ylabel('Number of Reviews')\n",
        "ax2.set_xlabel('Ratings')\n",
        "ax2.set_title('Relation between Ratings<3.5 and Reviews<20 thousand')\n",
        "fig.tight_layout()# inorder to maintain a proper gap"
      ],
      "metadata": {
        "id": "TIJwrbroYuh3"
      },
      "execution_count": null,
      "outputs": []
    },
    {
      "cell_type": "markdown",
      "source": [
        "##### 1. Why did you pick the specific chart?"
      ],
      "metadata": {
        "id": "QHF8YVU7Yuh3"
      }
    },
    {
      "cell_type": "markdown",
      "source": [
        "* The data was to be correlated between two variables.\n",
        "* Each App corresponds to one dot \n",
        "\n",
        "Hence to showcase all points scatter plot was the best choice."
      ],
      "metadata": {
        "id": "dcxuIMRPYuh3"
      }
    },
    {
      "cell_type": "markdown",
      "source": [
        "##### 2. What is/are the insight(s) found from the chart?"
      ],
      "metadata": {
        "id": "GwzvFGzlYuh3"
      }
    },
    {
      "cell_type": "markdown",
      "source": [
        "* Most of the Apps have Ratings between 3.5 and 5.0 and Reviews less than 10 million.\n",
        "* In second subplot which is a zoomed in plot of the first we can see that there are very few apps that have less rating (< 3.0) and have more number of reviews.\n",
        "* Apps which have exact 5 Star Rating also dont have reviews more than 10 million."
      ],
      "metadata": {
        "id": "uyqkiB8YYuh3"
      }
    },
    {
      "cell_type": "markdown",
      "source": [
        "##### 3. Will the gained insights help creating a positive business impact? \n",
        "Are there any insights that lead to negative growth? Justify with specific reason."
      ],
      "metadata": {
        "id": "qYpmQ266Yuh3"
      }
    },
    {
      "cell_type": "markdown",
      "source": [
        "\n",
        "*   When the App will be deployed on Playstore the App should be able to maintain Rating between 3.5 and 4.75.\n",
        "*   Some Apps have less Ratings and Reviews ,which means that if the App is not good enough users dont bother to rate or review it. \n",
        "\n",
        "\n",
        "\n"
      ],
      "metadata": {
        "id": "_WtzZ_hCYuh4"
      }
    },
    {
      "cell_type": "markdown",
      "source": [
        "### What should be name of the App?"
      ],
      "metadata": {
        "id": "T0fvWVRGHeGX"
      }
    },
    {
      "cell_type": "markdown",
      "source": [
        "#### Chart - 7"
      ],
      "metadata": {
        "id": "OH-pJp9IphqM"
      }
    },
    {
      "cell_type": "code",
      "source": [
        "fx,(ax)=plt.subplots(figsize=(15,5))\n",
        "sns.boxplot(data=df8,x='Installs',y='Character_length',ax=ax)\n",
        "ax.yaxis.set_ticks(np.arange(0,210,10))\n",
        "plt.grid()\n",
        "plt.xticks(rotation='vertical')"
      ],
      "metadata": {
        "id": "kuRf4wtuphqN"
      },
      "execution_count": null,
      "outputs": []
    },
    {
      "cell_type": "markdown",
      "source": [
        "##### 1. Why did you pick the specific chart?"
      ],
      "metadata": {
        "id": "bbFf2-_FphqN"
      }
    },
    {
      "cell_type": "markdown",
      "source": [
        "* It was required to find range in character lengths.\n",
        "* Also we needed to compare different subgroups in number of installs.\n",
        "\n",
        "To do both things together it was necessary to go for a box plot."
      ],
      "metadata": {
        "id": "loh7H2nzphqN"
      }
    },
    {
      "cell_type": "markdown",
      "source": [
        "##### 2. What is/are the insight(s) found from the chart?"
      ],
      "metadata": {
        "id": "_ouA3fa0phqN"
      }
    },
    {
      "cell_type": "markdown",
      "source": [
        "* All subgroups have quartile ranges in between 10 to 30 letters.\n",
        "* In all subgroups Minimum is 1 letter and Maximum is 50 letters.\n",
        "* All subgroups above 5lakhs i.e 0.5 million installs dont have outliers above 50 letters.\n",
        "* Median of character lengths is 21 letters. \n"
      ],
      "metadata": {
        "id": "VECbqPI7phqN"
      }
    },
    {
      "cell_type": "markdown",
      "source": [
        "##### 3. Will the gained insights help creating a positive business impact? \n",
        "Are there any insights that lead to negative growth? Justify with specific reason."
      ],
      "metadata": {
        "id": "Seke61FWphqN"
      }
    },
    {
      "cell_type": "markdown",
      "source": [
        "* The Name of App to be developed should have character lengths less than 30.\n",
        "* In a max case it could be 50 letters."
      ],
      "metadata": {
        "id": "DW4_bGpfphqN"
      }
    },
    {
      "cell_type": "markdown",
      "source": [
        "### What should be the Category of the App?"
      ],
      "metadata": {
        "id": "9swGNaDTXzrT"
      }
    },
    {
      "cell_type": "markdown",
      "source": [
        "#### Chart - 8"
      ],
      "metadata": {
        "id": "PIIx-8_IphqN"
      }
    },
    {
      "cell_type": "code",
      "source": [
        "# Chart - 8 visualization code\n",
        "fig,(ax) = plt.subplots()\n",
        "df9.groupby(by='Category').mean().plot(kind='bar',figsize=(15,10),ax=ax)\n",
        "ax.yaxis.set_ticks(np.arange(0,3.5*10**(7)+0.25*10**(7),0.25*10**(7)))\n",
        "plt.grid()\n",
        "plt.xticks(rotation='vertical')"
      ],
      "metadata": {
        "id": "lqAIGUfyphqO"
      },
      "execution_count": null,
      "outputs": []
    },
    {
      "cell_type": "markdown",
      "source": [
        "##### 1. Why did you pick the specific chart?"
      ],
      "metadata": {
        "id": "t27r6nlMphqO"
      }
    },
    {
      "cell_type": "markdown",
      "source": [
        "* Data was to be compared Categorically.\n",
        "* Each  Category had a discrete value.\n",
        "So using a bar plot was the best choice."
      ],
      "metadata": {
        "id": "iv6ro40sphqO"
      }
    },
    {
      "cell_type": "markdown",
      "source": [
        "##### 2. What is/are the insight(s) found from the chart?"
      ],
      "metadata": {
        "id": "r2jJGEOYphqO"
      }
    },
    {
      "cell_type": "markdown",
      "source": [
        "* **Communication** , **Video_players** , **Social** are the top three categories which have most average Installs.\n",
        "\n"
      ],
      "metadata": {
        "id": "Po6ZPi4hphqO"
      }
    },
    {
      "cell_type": "markdown",
      "source": [
        "##### 3. Will the gained insights help creating a positive business impact? \n",
        "Are there any insights that lead to negative growth? Justify with specific reason."
      ],
      "metadata": {
        "id": "b0JNsNcRphqO"
      }
    },
    {
      "cell_type": "markdown",
      "source": [
        "If we see in Chart1, Chart2 & Chart 4 and even in above chart **COMMUNICATION** stands out as the most promising category in which we can develop App so as to get good number of user base."
      ],
      "metadata": {
        "id": "xvSq8iUTphqO"
      }
    },
    {
      "cell_type": "markdown",
      "source": [
        "### What should be the Size of the App?"
      ],
      "metadata": {
        "id": "r2AB0UQL_3MU"
      }
    },
    {
      "cell_type": "markdown",
      "source": [
        "#### Chart - 9"
      ],
      "metadata": {
        "id": "BZR9WyysphqO"
      }
    },
    {
      "cell_type": "code",
      "source": [
        "# Chart - 9 visualization code\n",
        "fx,(ax)=plt.subplots(figsize=(15,5))\n",
        "sns.boxplot(data=df10,x='Installs',y='Size',ax=ax)\n",
        "ax.yaxis.set_ticks(np.arange(0,110,10))\n",
        "plt.grid()\n",
        "plt.xticks(rotation='vertical')"
      ],
      "metadata": {
        "id": "TdPTWpAVphqO"
      },
      "execution_count": null,
      "outputs": []
    },
    {
      "cell_type": "markdown",
      "source": [
        "##### 1. Why did you pick the specific chart?"
      ],
      "metadata": {
        "id": "jj7wYXLtphqO"
      }
    },
    {
      "cell_type": "markdown",
      "source": [
        "* It was required to find range in size of App.\n",
        "* Also we needed to compare different subgroups in number of installs.\n",
        "\n",
        "To do both things together it was necessary to go for a box plot."
      ],
      "metadata": {
        "id": "Ob8u6rCTphqO"
      }
    },
    {
      "cell_type": "markdown",
      "source": [
        "##### 2. What is/are the insight(s) found from the chart?"
      ],
      "metadata": {
        "id": "eZrbJ2SmphqO"
      }
    },
    {
      "cell_type": "markdown",
      "source": [
        "* Allmost all apps have their Interquartile ranges in between 20 to 55 Megabytes.\n",
        "* Median is 33 Megabytes."
      ],
      "metadata": {
        "id": "mZtgC_hjphqO"
      }
    },
    {
      "cell_type": "markdown",
      "source": [
        "##### 3. Will the gained insights help creating a positive business impact? \n",
        "Are there any insights that lead to negative growth? Justify with specific reason."
      ],
      "metadata": {
        "id": "rFu4xreNphqO"
      }
    },
    {
      "cell_type": "markdown",
      "source": [
        "The App to be developed should be in the size range of 20 to 55 Mb, smaller the size better it would be."
      ],
      "metadata": {
        "id": "ey_0qi68phqO"
      }
    },
    {
      "cell_type": "markdown",
      "source": [
        "### Should the App be Free or Paid?"
      ],
      "metadata": {
        "id": "5Fj9isnOE0-d"
      }
    },
    {
      "cell_type": "markdown",
      "source": [
        "#### Chart - 10"
      ],
      "metadata": {
        "id": "YJ55k-q6phqO"
      }
    },
    {
      "cell_type": "code",
      "source": [
        "# Chart - 10 visualization code\n",
        "fx,(ax)=plt.subplots(figsize=(10,8))\n",
        "df11.groupby(by='Type').count().plot(kind='pie',x='Type',y='Installs',ax=ax,startangle=45,explode=(0,0.1),autopct='%1.1f%%',shadow=True)"
      ],
      "metadata": {
        "id": "B2aS4O1ophqO"
      },
      "execution_count": null,
      "outputs": []
    },
    {
      "cell_type": "markdown",
      "source": [
        "##### 1. Why did you pick the specific chart?"
      ],
      "metadata": {
        "id": "gCFgpxoyphqP"
      }
    },
    {
      "cell_type": "markdown",
      "source": [
        "* Data to be compared had only two categories, also the values were discrete.\n",
        "* Data was required to be compared in percentages.\n",
        "So to go for the pie plot was the best option."
      ],
      "metadata": {
        "id": "TVxDimi2phqP"
      }
    },
    {
      "cell_type": "markdown",
      "source": [
        "##### 2. What is/are the insight(s) found from the chart?"
      ],
      "metadata": {
        "id": "OVtJsKN_phqQ"
      }
    },
    {
      "cell_type": "markdown",
      "source": [
        "* Only 7.8 percent of the Apps Installed are paid apps."
      ],
      "metadata": {
        "id": "ngGi97qjphqQ"
      }
    },
    {
      "cell_type": "markdown",
      "source": [
        "##### 3. Will the gained insights help creating a positive business impact? \n",
        "Are there any insights that lead to negative growth? Justify with specific reason."
      ],
      "metadata": {
        "id": "lssrdh5qphqQ"
      }
    },
    {
      "cell_type": "markdown",
      "source": [
        "The App to be developed should be free as 92.2% of Installs are from Free Apps. "
      ],
      "metadata": {
        "id": "tBpY5ekJphqQ"
      }
    },
    {
      "cell_type": "markdown",
      "source": [
        "#### Chart - 11"
      ],
      "metadata": {
        "id": "n3dbpmDWp1ck"
      }
    },
    {
      "cell_type": "code",
      "source": [
        "# Chart - 11 visualization code\n",
        "amount =df1.groupby(['Type','Category'],as_index=False)['App'].count()\n",
        "px.sunburst(amount, values='App', path=['Type','Category'], title='Amount Of Apps in Paid and Free Category', color='Category')"
      ],
      "metadata": {
        "id": "bwevp1tKp1ck"
      },
      "execution_count": null,
      "outputs": []
    },
    {
      "cell_type": "markdown",
      "source": [
        "##### 1. Why did you pick the specific chart?"
      ],
      "metadata": {
        "id": "ylSl6qgtp1ck"
      }
    },
    {
      "cell_type": "markdown",
      "source": [
        "* Hierarchical data was to be plotted.\n",
        "* Each level of hierarchy was again subdivided into categories.\n",
        "* Also scrolling over the plot we get more data about the specific category."
      ],
      "metadata": {
        "id": "m2xqNkiQp1ck"
      }
    },
    {
      "cell_type": "markdown",
      "source": [
        "##### 2. What is/are the insight(s) found from the chart?"
      ],
      "metadata": {
        "id": "ZWILFDl5p1ck"
      }
    },
    {
      "cell_type": "markdown",
      "source": [
        "* Family,Medical,Game are top three categories in paid apps.\n",
        "* Family,Game,Tools are top three categories in free apps."
      ],
      "metadata": {
        "id": "x-lUsV2mp1ck"
      }
    },
    {
      "cell_type": "markdown",
      "source": [
        "##### 3. Will the gained insights help creating a positive business impact? \n",
        "Are there any insights that lead to negative growth? Justify with specific reason."
      ],
      "metadata": {
        "id": "M7G43BXep1ck"
      }
    },
    {
      "cell_type": "markdown",
      "source": [
        "* If a paid app is to be made it should be in a Family, Game or Tool category."
      ],
      "metadata": {
        "id": "5wwDJXsLp1cl"
      }
    },
    {
      "cell_type": "markdown",
      "source": [
        "### What should be the content Rating?"
      ],
      "metadata": {
        "id": "c4mvLCsCAV1y"
      }
    },
    {
      "cell_type": "markdown",
      "source": [
        "#### Chart - 12"
      ],
      "metadata": {
        "id": "U2RJ9gkRphqQ"
      }
    },
    {
      "cell_type": "code",
      "source": [
        "# Chart - 12 visualization code\n",
        "fx,(ax)=plt.subplots(figsize=(10,8))\n",
        "df12.groupby(by='Content Rating').sum().plot(kind='pie',x='Content Rating',y='Installs',ax=ax,startangle=45,autopct='%1.1f%%',shadow=True)"
      ],
      "metadata": {
        "id": "GM7a4YP4phqQ"
      },
      "execution_count": null,
      "outputs": []
    },
    {
      "cell_type": "markdown",
      "source": [
        "##### 1. Why did you pick the specific chart?"
      ],
      "metadata": {
        "id": "1M8mcRywphqQ"
      }
    },
    {
      "cell_type": "markdown",
      "source": [
        "* Data to be compared had only two categories, also the values were discrete.\n",
        "* Data was required to be compared in percentages."
      ],
      "metadata": {
        "id": "8agQvks0phqQ"
      }
    },
    {
      "cell_type": "markdown",
      "source": [
        "##### 2. What is/are the insight(s) found from the chart?"
      ],
      "metadata": {
        "id": "tgIPom80phqQ"
      }
    },
    {
      "cell_type": "markdown",
      "source": [
        "* **Everyone** ,**Teen** Content rated apps cover 91.4 percent(69.5%+21.9%) of the Apps.\n"
      ],
      "metadata": {
        "id": "Qp13pnNzphqQ"
      }
    },
    {
      "cell_type": "markdown",
      "source": [
        "##### 3. Will the gained insights help creating a positive business impact? \n",
        "Are there any insights that lead to negative growth? Justify with specific reason."
      ],
      "metadata": {
        "id": "JMzcOPDDphqR"
      }
    },
    {
      "cell_type": "markdown",
      "source": [
        "The App to be developed should have content Rating as Everyone or Teen\n",
        "\n"
      ],
      "metadata": {
        "id": "R4Ka1PC2phqR"
      }
    },
    {
      "cell_type": "markdown",
      "source": [
        "## **5. Solution to Business Objective**"
      ],
      "metadata": {
        "id": "JcMwzZxoAimU"
      }
    },
    {
      "cell_type": "markdown",
      "source": [
        "#### What do you suggest the client to achieve Business Objective ? \n",
        "Explain Briefly."
      ],
      "metadata": {
        "id": "8G2x9gOozGDZ"
      }
    },
    {
      "cell_type": "markdown",
      "source": [
        "In order to make an app to be developed a hit the app should be made according to following constraints\n",
        "* The name of the app should be upto 50 letters ,less the number of letters better it would be.\n",
        "* The app should be made in communication category.\n",
        "* The size of the app should be less than 55 Mb,lesser the size better it would be.\n",
        "* The App should be free.\n",
        "* The content rating should be everyone or teen.\n",
        "\n"
      ],
      "metadata": {
        "id": "pASKb0qOza21"
      }
    },
    {
      "cell_type": "markdown",
      "source": [
        "# **Conclusion**"
      ],
      "metadata": {
        "id": "gCX9965dhzqZ"
      }
    },
    {
      "cell_type": "markdown",
      "source": [
        "* Some Apps have less Ratings and Reviews ,which means that if the App is not good enough users dont bother to rate or review it.It means inshort the apps having less rating dont have much reviews either.\n",
        "* To get more number of installs the name length should be small, size should be small, category should be communication or atleast social, content rating should be everyone or teen and app shouldnt be paid.\n",
        "* More the reviews more updates are required for the app.\n",
        "* Categories other than communication ,social have some apps that are hit.\n",
        "* Installs and reviews are the only two columns kind of coorelated to each other other columns are not even closely related to each other."
      ],
      "metadata": {
        "id": "Fjb1IsQkh3yE"
      }
    },
    {
      "cell_type": "markdown",
      "source": [
        "### ***Hurrah! You have successfully completed your EDA Capstone Project !!!***"
      ],
      "metadata": {
        "id": "gIfDvo9L0UH2"
      }
    }
  ]
}